{
 "cells": [
  {
   "cell_type": "markdown",
   "id": "a3a4a360-b227-4690-a4e9-a82cf1798aa4",
   "metadata": {},
   "source": [
    "# EDA on Escape from Police Custody"
   ]
  },
  {
   "cell_type": "code",
   "execution_count": null,
   "id": "b2b6365e-c590-415f-9e39-43545d4a5b3d",
   "metadata": {},
   "outputs": [],
   "source": [
    "##Chargesheet: a report filed by the police with the court\n",
    "##Chargesheeted: a person is accused in the report for the crime or neglience.\n",
    "##convicted: the court order\n",
    "##U/S 224: If a person runs away or fights back while being arrested they can be punished under 224\n",
    "##U/s 225B: If a person helps another person who is in custody  or arrest, they can be punished under 225B."
   ]
  },
  {
   "cell_type": "code",
   "execution_count": 1,
   "id": "afde1e36-c69c-456d-a042-a700d2c9c1ed",
   "metadata": {},
   "outputs": [],
   "source": [
    "import pandas as pd"
   ]
  },
  {
   "cell_type": "code",
   "execution_count": 2,
   "id": "512f713f-bcaa-4cd8-9015-528d68970e4a",
   "metadata": {},
   "outputs": [],
   "source": [
    "dfs=pd.read_excel(\"Escape from police custody.xlsx\",sheet_name=None)"
   ]
  },
  {
   "cell_type": "code",
   "execution_count": 3,
   "id": "acc73f56-4895-4816-b822-ab5d5449a106",
   "metadata": {},
   "outputs": [],
   "source": [
    "df_2016=dfs['2016']\n",
    "df_2017=dfs['2017']\n",
    "df_2018=dfs['2018']"
   ]
  },
  {
   "cell_type": "code",
   "execution_count": 4,
   "id": "11c2cb87-f901-4391-bd1f-dd9f35f21366",
   "metadata": {},
   "outputs": [
    {
     "data": {
      "text/html": [
       "<div>\n",
       "<style scoped>\n",
       "    .dataframe tbody tr th:only-of-type {\n",
       "        vertical-align: middle;\n",
       "    }\n",
       "\n",
       "    .dataframe tbody tr th {\n",
       "        vertical-align: top;\n",
       "    }\n",
       "\n",
       "    .dataframe thead th {\n",
       "        text-align: right;\n",
       "    }\n",
       "</style>\n",
       "<table border=\"1\" class=\"dataframe\">\n",
       "  <thead>\n",
       "    <tr style=\"text-align: right;\">\n",
       "      <th></th>\n",
       "      <th>S. No.</th>\n",
       "      <th>Category</th>\n",
       "      <th>State/UT</th>\n",
       "      <th>Cases Reported</th>\n",
       "      <th>Persons Escaped - From lockup</th>\n",
       "      <th>Persons Escaped - Outside Lockup</th>\n",
       "      <th>Persons Escaped - Total</th>\n",
       "      <th>Escapees - Re-Arrested</th>\n",
       "      <th>Escapees - Absconding</th>\n",
       "      <th>Cases against Police for Negligence</th>\n",
       "      <th>Action taken for Negligence - Police Personnel Arrested</th>\n",
       "      <th>Action taken for Negligence - Police Personnel Chargesheeted</th>\n",
       "      <th>Action taken for Negligence - Police Personnel Convicted</th>\n",
       "    </tr>\n",
       "  </thead>\n",
       "  <tbody>\n",
       "    <tr>\n",
       "      <th>0</th>\n",
       "      <td>1</td>\n",
       "      <td>State</td>\n",
       "      <td>Andhra Pradesh</td>\n",
       "      <td>36</td>\n",
       "      <td>3</td>\n",
       "      <td>35</td>\n",
       "      <td>38</td>\n",
       "      <td>33</td>\n",
       "      <td>4</td>\n",
       "      <td>0</td>\n",
       "      <td>0</td>\n",
       "      <td>0</td>\n",
       "      <td>1</td>\n",
       "    </tr>\n",
       "    <tr>\n",
       "      <th>1</th>\n",
       "      <td>2</td>\n",
       "      <td>State</td>\n",
       "      <td>Arunachal Pradesh</td>\n",
       "      <td>3</td>\n",
       "      <td>9</td>\n",
       "      <td>1</td>\n",
       "      <td>10</td>\n",
       "      <td>10</td>\n",
       "      <td>0</td>\n",
       "      <td>0</td>\n",
       "      <td>0</td>\n",
       "      <td>0</td>\n",
       "      <td>0</td>\n",
       "    </tr>\n",
       "  </tbody>\n",
       "</table>\n",
       "</div>"
      ],
      "text/plain": [
       "   S. No. Category           State/UT  Cases Reported  \\\n",
       "0       1    State     Andhra Pradesh              36   \n",
       "1       2    State  Arunachal Pradesh               3   \n",
       "\n",
       "   Persons Escaped - From lockup  Persons Escaped - Outside Lockup  \\\n",
       "0                              3                                35   \n",
       "1                              9                                 1   \n",
       "\n",
       "   Persons Escaped - Total  Escapees - Re-Arrested  Escapees - Absconding  \\\n",
       "0                       38                      33                      4   \n",
       "1                       10                      10                      0   \n",
       "\n",
       "   Cases against Police for Negligence  \\\n",
       "0                                    0   \n",
       "1                                    0   \n",
       "\n",
       "   Action taken for Negligence - Police Personnel Arrested  \\\n",
       "0                                                  0         \n",
       "1                                                  0         \n",
       "\n",
       "   Action taken for Negligence - Police Personnel Chargesheeted  \\\n",
       "0                                                  0              \n",
       "1                                                  0              \n",
       "\n",
       "   Action taken for Negligence - Police Personnel Convicted  \n",
       "0                                                  1         \n",
       "1                                                  0         "
      ]
     },
     "execution_count": 4,
     "metadata": {},
     "output_type": "execute_result"
    }
   ],
   "source": [
    "df_2017.head(2)"
   ]
  },
  {
   "cell_type": "code",
   "execution_count": 5,
   "id": "658ff0e4-1ffb-4bd8-bb89-ebe67d74c18b",
   "metadata": {},
   "outputs": [
    {
     "data": {
      "text/html": [
       "<div>\n",
       "<style scoped>\n",
       "    .dataframe tbody tr th:only-of-type {\n",
       "        vertical-align: middle;\n",
       "    }\n",
       "\n",
       "    .dataframe tbody tr th {\n",
       "        vertical-align: top;\n",
       "    }\n",
       "\n",
       "    .dataframe thead th {\n",
       "        text-align: right;\n",
       "    }\n",
       "</style>\n",
       "<table border=\"1\" class=\"dataframe\">\n",
       "  <thead>\n",
       "    <tr style=\"text-align: right;\">\n",
       "      <th></th>\n",
       "      <th>S. No.</th>\n",
       "      <th>Category</th>\n",
       "      <th>State/UT</th>\n",
       "      <th>Cases Reported</th>\n",
       "      <th>Persons Escaped - From lockup</th>\n",
       "      <th>Persons Escaped - Outside Lockup</th>\n",
       "      <th>Persons Escaped - Total</th>\n",
       "      <th>Escapees - Re-Arrested</th>\n",
       "      <th>Escapees - Absconding</th>\n",
       "      <th>Cases against Police for Negligence</th>\n",
       "      <th>Action taken for Negligence - Police Personnel Arrested</th>\n",
       "      <th>Action taken for Negligence - Police Personnel Chargesheeted</th>\n",
       "      <th>Action taken for Negligence - Police Personnel Convicted</th>\n",
       "    </tr>\n",
       "  </thead>\n",
       "  <tbody>\n",
       "    <tr>\n",
       "      <th>0</th>\n",
       "      <td>1</td>\n",
       "      <td>State</td>\n",
       "      <td>Andhra Pradesh</td>\n",
       "      <td>26</td>\n",
       "      <td>1</td>\n",
       "      <td>35</td>\n",
       "      <td>36</td>\n",
       "      <td>22</td>\n",
       "      <td>6</td>\n",
       "      <td>3</td>\n",
       "      <td>0</td>\n",
       "      <td>1</td>\n",
       "      <td>0</td>\n",
       "    </tr>\n",
       "    <tr>\n",
       "      <th>1</th>\n",
       "      <td>2</td>\n",
       "      <td>State</td>\n",
       "      <td>Arunachal Pradesh</td>\n",
       "      <td>2</td>\n",
       "      <td>2</td>\n",
       "      <td>0</td>\n",
       "      <td>2</td>\n",
       "      <td>2</td>\n",
       "      <td>0</td>\n",
       "      <td>0</td>\n",
       "      <td>0</td>\n",
       "      <td>0</td>\n",
       "      <td>0</td>\n",
       "    </tr>\n",
       "  </tbody>\n",
       "</table>\n",
       "</div>"
      ],
      "text/plain": [
       "   S. No. Category           State/UT  Cases Reported  \\\n",
       "0       1    State     Andhra Pradesh              26   \n",
       "1       2    State  Arunachal Pradesh               2   \n",
       "\n",
       "   Persons Escaped - From lockup  Persons Escaped - Outside Lockup  \\\n",
       "0                              1                                35   \n",
       "1                              2                                 0   \n",
       "\n",
       "   Persons Escaped - Total  Escapees - Re-Arrested  Escapees - Absconding  \\\n",
       "0                       36                      22                      6   \n",
       "1                        2                       2                      0   \n",
       "\n",
       "   Cases against Police for Negligence  \\\n",
       "0                                    3   \n",
       "1                                    0   \n",
       "\n",
       "   Action taken for Negligence - Police Personnel Arrested  \\\n",
       "0                                                  0         \n",
       "1                                                  0         \n",
       "\n",
       "   Action taken for Negligence - Police Personnel Chargesheeted  \\\n",
       "0                                                  1              \n",
       "1                                                  0              \n",
       "\n",
       "   Action taken for Negligence - Police Personnel Convicted  \n",
       "0                                                  0         \n",
       "1                                                  0         "
      ]
     },
     "execution_count": 5,
     "metadata": {},
     "output_type": "execute_result"
    }
   ],
   "source": [
    "df_2018.head(2)"
   ]
  },
  {
   "cell_type": "code",
   "execution_count": 6,
   "id": "887c2830-2aad-46f9-a3e5-4d483a628bc6",
   "metadata": {},
   "outputs": [
    {
     "name": "stdout",
     "output_type": "stream",
     "text": [
      "<class 'pandas.core.frame.DataFrame'>\n",
      "RangeIndex: 36 entries, 0 to 35\n",
      "Data columns (total 13 columns):\n",
      " #   Column                                                        Non-Null Count  Dtype \n",
      "---  ------                                                        --------------  ----- \n",
      " 0   S. No.                                                        36 non-null     int64 \n",
      " 1   Category                                                      36 non-null     object\n",
      " 2   State/UT                                                      36 non-null     object\n",
      " 3   Cases Reported                                                36 non-null     int64 \n",
      " 4   Persons Escaped - From lockup                                 36 non-null     int64 \n",
      " 5   Persons Escaped - Outside Lockup                              36 non-null     int64 \n",
      " 6   Persons Escaped - Total                                       36 non-null     int64 \n",
      " 7   Escapees - Re-Arrested                                        36 non-null     int64 \n",
      " 8   Escapees - Absconding                                         36 non-null     int64 \n",
      " 9   Cases against Police for Negligence                           36 non-null     int64 \n",
      " 10  Action taken for Negligence - Police Personnel Arrested       36 non-null     int64 \n",
      " 11  Action taken for Negligence - Police Personnel Chargesheeted  36 non-null     int64 \n",
      " 12  Action taken for Negligence - Police Personnel Convicted      36 non-null     int64 \n",
      "dtypes: int64(11), object(2)\n",
      "memory usage: 3.8+ KB\n"
     ]
    }
   ],
   "source": [
    "df_2017.info()"
   ]
  },
  {
   "cell_type": "code",
   "execution_count": 7,
   "id": "c9ba5015-7c1d-49b3-8dd8-304d55d19e57",
   "metadata": {},
   "outputs": [],
   "source": [
    "df_2017.drop(columns=[\"S. No.\"],inplace=True) #dropping the column serial number."
   ]
  },
  {
   "cell_type": "code",
   "execution_count": 8,
   "id": "e47e3776-158e-4ede-b49f-257323bbaa77",
   "metadata": {},
   "outputs": [
    {
     "data": {
      "text/html": [
       "<div>\n",
       "<style scoped>\n",
       "    .dataframe tbody tr th:only-of-type {\n",
       "        vertical-align: middle;\n",
       "    }\n",
       "\n",
       "    .dataframe tbody tr th {\n",
       "        vertical-align: top;\n",
       "    }\n",
       "\n",
       "    .dataframe thead th {\n",
       "        text-align: right;\n",
       "    }\n",
       "</style>\n",
       "<table border=\"1\" class=\"dataframe\">\n",
       "  <thead>\n",
       "    <tr style=\"text-align: right;\">\n",
       "      <th></th>\n",
       "      <th>Category</th>\n",
       "      <th>State/UT</th>\n",
       "      <th>Cases Reported</th>\n",
       "      <th>Persons Escaped - From lockup</th>\n",
       "      <th>Persons Escaped - Outside Lockup</th>\n",
       "      <th>Persons Escaped - Total</th>\n",
       "      <th>Escapees - Re-Arrested</th>\n",
       "      <th>Escapees - Absconding</th>\n",
       "      <th>Cases against Police for Negligence</th>\n",
       "      <th>Action taken for Negligence - Police Personnel Arrested</th>\n",
       "      <th>Action taken for Negligence - Police Personnel Chargesheeted</th>\n",
       "      <th>Action taken for Negligence - Police Personnel Convicted</th>\n",
       "    </tr>\n",
       "  </thead>\n",
       "  <tbody>\n",
       "    <tr>\n",
       "      <th>0</th>\n",
       "      <td>State</td>\n",
       "      <td>Andhra Pradesh</td>\n",
       "      <td>36</td>\n",
       "      <td>3</td>\n",
       "      <td>35</td>\n",
       "      <td>38</td>\n",
       "      <td>33</td>\n",
       "      <td>4</td>\n",
       "      <td>0</td>\n",
       "      <td>0</td>\n",
       "      <td>0</td>\n",
       "      <td>1</td>\n",
       "    </tr>\n",
       "    <tr>\n",
       "      <th>1</th>\n",
       "      <td>State</td>\n",
       "      <td>Arunachal Pradesh</td>\n",
       "      <td>3</td>\n",
       "      <td>9</td>\n",
       "      <td>1</td>\n",
       "      <td>10</td>\n",
       "      <td>10</td>\n",
       "      <td>0</td>\n",
       "      <td>0</td>\n",
       "      <td>0</td>\n",
       "      <td>0</td>\n",
       "      <td>0</td>\n",
       "    </tr>\n",
       "  </tbody>\n",
       "</table>\n",
       "</div>"
      ],
      "text/plain": [
       "  Category           State/UT  Cases Reported  Persons Escaped - From lockup  \\\n",
       "0    State     Andhra Pradesh              36                              3   \n",
       "1    State  Arunachal Pradesh               3                              9   \n",
       "\n",
       "   Persons Escaped - Outside Lockup  Persons Escaped - Total  \\\n",
       "0                                35                       38   \n",
       "1                                 1                       10   \n",
       "\n",
       "   Escapees - Re-Arrested  Escapees - Absconding  \\\n",
       "0                      33                      4   \n",
       "1                      10                      0   \n",
       "\n",
       "   Cases against Police for Negligence  \\\n",
       "0                                    0   \n",
       "1                                    0   \n",
       "\n",
       "   Action taken for Negligence - Police Personnel Arrested  \\\n",
       "0                                                  0         \n",
       "1                                                  0         \n",
       "\n",
       "   Action taken for Negligence - Police Personnel Chargesheeted  \\\n",
       "0                                                  0              \n",
       "1                                                  0              \n",
       "\n",
       "   Action taken for Negligence - Police Personnel Convicted  \n",
       "0                                                  1         \n",
       "1                                                  0         "
      ]
     },
     "execution_count": 8,
     "metadata": {},
     "output_type": "execute_result"
    }
   ],
   "source": [
    "df_2017.head(2)"
   ]
  },
  {
   "cell_type": "code",
   "execution_count": 9,
   "id": "cd9a28fa-5bb2-4676-8ffe-a28fb0595615",
   "metadata": {},
   "outputs": [],
   "source": [
    "df_2018.drop(columns=[\"S. No.\"],inplace=True) #dropping the column serial number."
   ]
  },
  {
   "cell_type": "code",
   "execution_count": 10,
   "id": "90d534b9-2319-43ee-8383-54ceea921e27",
   "metadata": {},
   "outputs": [
    {
     "data": {
      "text/html": [
       "<div>\n",
       "<style scoped>\n",
       "    .dataframe tbody tr th:only-of-type {\n",
       "        vertical-align: middle;\n",
       "    }\n",
       "\n",
       "    .dataframe tbody tr th {\n",
       "        vertical-align: top;\n",
       "    }\n",
       "\n",
       "    .dataframe thead th {\n",
       "        text-align: right;\n",
       "    }\n",
       "</style>\n",
       "<table border=\"1\" class=\"dataframe\">\n",
       "  <thead>\n",
       "    <tr style=\"text-align: right;\">\n",
       "      <th></th>\n",
       "      <th>Category</th>\n",
       "      <th>State/UT</th>\n",
       "      <th>Cases Reported</th>\n",
       "      <th>Persons Escaped - From lockup</th>\n",
       "      <th>Persons Escaped - Outside Lockup</th>\n",
       "      <th>Persons Escaped - Total</th>\n",
       "      <th>Escapees - Re-Arrested</th>\n",
       "      <th>Escapees - Absconding</th>\n",
       "      <th>Cases against Police for Negligence</th>\n",
       "      <th>Action taken for Negligence - Police Personnel Arrested</th>\n",
       "      <th>Action taken for Negligence - Police Personnel Chargesheeted</th>\n",
       "      <th>Action taken for Negligence - Police Personnel Convicted</th>\n",
       "    </tr>\n",
       "  </thead>\n",
       "  <tbody>\n",
       "    <tr>\n",
       "      <th>0</th>\n",
       "      <td>State</td>\n",
       "      <td>Andhra Pradesh</td>\n",
       "      <td>26</td>\n",
       "      <td>1</td>\n",
       "      <td>35</td>\n",
       "      <td>36</td>\n",
       "      <td>22</td>\n",
       "      <td>6</td>\n",
       "      <td>3</td>\n",
       "      <td>0</td>\n",
       "      <td>1</td>\n",
       "      <td>0</td>\n",
       "    </tr>\n",
       "    <tr>\n",
       "      <th>1</th>\n",
       "      <td>State</td>\n",
       "      <td>Arunachal Pradesh</td>\n",
       "      <td>2</td>\n",
       "      <td>2</td>\n",
       "      <td>0</td>\n",
       "      <td>2</td>\n",
       "      <td>2</td>\n",
       "      <td>0</td>\n",
       "      <td>0</td>\n",
       "      <td>0</td>\n",
       "      <td>0</td>\n",
       "      <td>0</td>\n",
       "    </tr>\n",
       "  </tbody>\n",
       "</table>\n",
       "</div>"
      ],
      "text/plain": [
       "  Category           State/UT  Cases Reported  Persons Escaped - From lockup  \\\n",
       "0    State     Andhra Pradesh              26                              1   \n",
       "1    State  Arunachal Pradesh               2                              2   \n",
       "\n",
       "   Persons Escaped - Outside Lockup  Persons Escaped - Total  \\\n",
       "0                                35                       36   \n",
       "1                                 0                        2   \n",
       "\n",
       "   Escapees - Re-Arrested  Escapees - Absconding  \\\n",
       "0                      22                      6   \n",
       "1                       2                      0   \n",
       "\n",
       "   Cases against Police for Negligence  \\\n",
       "0                                    3   \n",
       "1                                    0   \n",
       "\n",
       "   Action taken for Negligence - Police Personnel Arrested  \\\n",
       "0                                                  0         \n",
       "1                                                  0         \n",
       "\n",
       "   Action taken for Negligence - Police Personnel Chargesheeted  \\\n",
       "0                                                  1              \n",
       "1                                                  0              \n",
       "\n",
       "   Action taken for Negligence - Police Personnel Convicted  \n",
       "0                                                  0         \n",
       "1                                                  0         "
      ]
     },
     "execution_count": 10,
     "metadata": {},
     "output_type": "execute_result"
    }
   ],
   "source": [
    "df_2018.head(2)"
   ]
  },
  {
   "cell_type": "code",
   "execution_count": 11,
   "id": "0fab4cc0-494b-4de4-9599-7d7ff5642f9c",
   "metadata": {},
   "outputs": [],
   "source": [
    "df_2017[\"Year\"]=2017  #creating a column \"year\" and assigining value as 2017"
   ]
  },
  {
   "cell_type": "code",
   "execution_count": 13,
   "id": "a4378801-5950-4d00-9641-8ad9fb7336f1",
   "metadata": {},
   "outputs": [
    {
     "data": {
      "text/html": [
       "<div>\n",
       "<style scoped>\n",
       "    .dataframe tbody tr th:only-of-type {\n",
       "        vertical-align: middle;\n",
       "    }\n",
       "\n",
       "    .dataframe tbody tr th {\n",
       "        vertical-align: top;\n",
       "    }\n",
       "\n",
       "    .dataframe thead th {\n",
       "        text-align: right;\n",
       "    }\n",
       "</style>\n",
       "<table border=\"1\" class=\"dataframe\">\n",
       "  <thead>\n",
       "    <tr style=\"text-align: right;\">\n",
       "      <th></th>\n",
       "      <th>Category</th>\n",
       "      <th>State/UT</th>\n",
       "      <th>Cases Reported</th>\n",
       "      <th>Persons Escaped - From lockup</th>\n",
       "      <th>Persons Escaped - Outside Lockup</th>\n",
       "      <th>Persons Escaped - Total</th>\n",
       "      <th>Escapees - Re-Arrested</th>\n",
       "      <th>Escapees - Absconding</th>\n",
       "      <th>Cases against Police for Negligence</th>\n",
       "      <th>Action taken for Negligence - Police Personnel Arrested</th>\n",
       "      <th>Action taken for Negligence - Police Personnel Chargesheeted</th>\n",
       "      <th>Action taken for Negligence - Police Personnel Convicted</th>\n",
       "      <th>Year</th>\n",
       "    </tr>\n",
       "  </thead>\n",
       "  <tbody>\n",
       "    <tr>\n",
       "      <th>0</th>\n",
       "      <td>State</td>\n",
       "      <td>Andhra Pradesh</td>\n",
       "      <td>36</td>\n",
       "      <td>3</td>\n",
       "      <td>35</td>\n",
       "      <td>38</td>\n",
       "      <td>33</td>\n",
       "      <td>4</td>\n",
       "      <td>0</td>\n",
       "      <td>0</td>\n",
       "      <td>0</td>\n",
       "      <td>1</td>\n",
       "      <td>2017</td>\n",
       "    </tr>\n",
       "    <tr>\n",
       "      <th>1</th>\n",
       "      <td>State</td>\n",
       "      <td>Arunachal Pradesh</td>\n",
       "      <td>3</td>\n",
       "      <td>9</td>\n",
       "      <td>1</td>\n",
       "      <td>10</td>\n",
       "      <td>10</td>\n",
       "      <td>0</td>\n",
       "      <td>0</td>\n",
       "      <td>0</td>\n",
       "      <td>0</td>\n",
       "      <td>0</td>\n",
       "      <td>2017</td>\n",
       "    </tr>\n",
       "  </tbody>\n",
       "</table>\n",
       "</div>"
      ],
      "text/plain": [
       "  Category           State/UT  Cases Reported  Persons Escaped - From lockup  \\\n",
       "0    State     Andhra Pradesh              36                              3   \n",
       "1    State  Arunachal Pradesh               3                              9   \n",
       "\n",
       "   Persons Escaped - Outside Lockup  Persons Escaped - Total  \\\n",
       "0                                35                       38   \n",
       "1                                 1                       10   \n",
       "\n",
       "   Escapees - Re-Arrested  Escapees - Absconding  \\\n",
       "0                      33                      4   \n",
       "1                      10                      0   \n",
       "\n",
       "   Cases against Police for Negligence  \\\n",
       "0                                    0   \n",
       "1                                    0   \n",
       "\n",
       "   Action taken for Negligence - Police Personnel Arrested  \\\n",
       "0                                                  0         \n",
       "1                                                  0         \n",
       "\n",
       "   Action taken for Negligence - Police Personnel Chargesheeted  \\\n",
       "0                                                  0              \n",
       "1                                                  0              \n",
       "\n",
       "   Action taken for Negligence - Police Personnel Convicted  Year  \n",
       "0                                                  1         2017  \n",
       "1                                                  0         2017  "
      ]
     },
     "execution_count": 13,
     "metadata": {},
     "output_type": "execute_result"
    }
   ],
   "source": [
    "df_2017.head(2)"
   ]
  },
  {
   "cell_type": "code",
   "execution_count": 14,
   "id": "738f4cae-f71f-41c0-8a21-f62d7d274124",
   "metadata": {},
   "outputs": [],
   "source": [
    "df_2018[\"Year\"]=2018  #creating a column \"year\" and assigining value as 2018"
   ]
  },
  {
   "cell_type": "code",
   "execution_count": 15,
   "id": "9178322c-03c9-445e-8e11-2b68fcf5f9b0",
   "metadata": {},
   "outputs": [
    {
     "data": {
      "text/html": [
       "<div>\n",
       "<style scoped>\n",
       "    .dataframe tbody tr th:only-of-type {\n",
       "        vertical-align: middle;\n",
       "    }\n",
       "\n",
       "    .dataframe tbody tr th {\n",
       "        vertical-align: top;\n",
       "    }\n",
       "\n",
       "    .dataframe thead th {\n",
       "        text-align: right;\n",
       "    }\n",
       "</style>\n",
       "<table border=\"1\" class=\"dataframe\">\n",
       "  <thead>\n",
       "    <tr style=\"text-align: right;\">\n",
       "      <th></th>\n",
       "      <th>Category</th>\n",
       "      <th>State/UT</th>\n",
       "      <th>Cases Reported</th>\n",
       "      <th>Persons Escaped - From lockup</th>\n",
       "      <th>Persons Escaped - Outside Lockup</th>\n",
       "      <th>Persons Escaped - Total</th>\n",
       "      <th>Escapees - Re-Arrested</th>\n",
       "      <th>Escapees - Absconding</th>\n",
       "      <th>Cases against Police for Negligence</th>\n",
       "      <th>Action taken for Negligence - Police Personnel Arrested</th>\n",
       "      <th>Action taken for Negligence - Police Personnel Chargesheeted</th>\n",
       "      <th>Action taken for Negligence - Police Personnel Convicted</th>\n",
       "      <th>Year</th>\n",
       "    </tr>\n",
       "  </thead>\n",
       "  <tbody>\n",
       "    <tr>\n",
       "      <th>0</th>\n",
       "      <td>State</td>\n",
       "      <td>Andhra Pradesh</td>\n",
       "      <td>26</td>\n",
       "      <td>1</td>\n",
       "      <td>35</td>\n",
       "      <td>36</td>\n",
       "      <td>22</td>\n",
       "      <td>6</td>\n",
       "      <td>3</td>\n",
       "      <td>0</td>\n",
       "      <td>1</td>\n",
       "      <td>0</td>\n",
       "      <td>2018</td>\n",
       "    </tr>\n",
       "    <tr>\n",
       "      <th>1</th>\n",
       "      <td>State</td>\n",
       "      <td>Arunachal Pradesh</td>\n",
       "      <td>2</td>\n",
       "      <td>2</td>\n",
       "      <td>0</td>\n",
       "      <td>2</td>\n",
       "      <td>2</td>\n",
       "      <td>0</td>\n",
       "      <td>0</td>\n",
       "      <td>0</td>\n",
       "      <td>0</td>\n",
       "      <td>0</td>\n",
       "      <td>2018</td>\n",
       "    </tr>\n",
       "  </tbody>\n",
       "</table>\n",
       "</div>"
      ],
      "text/plain": [
       "  Category           State/UT  Cases Reported  Persons Escaped - From lockup  \\\n",
       "0    State     Andhra Pradesh              26                              1   \n",
       "1    State  Arunachal Pradesh               2                              2   \n",
       "\n",
       "   Persons Escaped - Outside Lockup  Persons Escaped - Total  \\\n",
       "0                                35                       36   \n",
       "1                                 0                        2   \n",
       "\n",
       "   Escapees - Re-Arrested  Escapees - Absconding  \\\n",
       "0                      22                      6   \n",
       "1                       2                      0   \n",
       "\n",
       "   Cases against Police for Negligence  \\\n",
       "0                                    3   \n",
       "1                                    0   \n",
       "\n",
       "   Action taken for Negligence - Police Personnel Arrested  \\\n",
       "0                                                  0         \n",
       "1                                                  0         \n",
       "\n",
       "   Action taken for Negligence - Police Personnel Chargesheeted  \\\n",
       "0                                                  1              \n",
       "1                                                  0              \n",
       "\n",
       "   Action taken for Negligence - Police Personnel Convicted  Year  \n",
       "0                                                  0         2018  \n",
       "1                                                  0         2018  "
      ]
     },
     "execution_count": 15,
     "metadata": {},
     "output_type": "execute_result"
    }
   ],
   "source": [
    "df_2018.head(2)"
   ]
  },
  {
   "cell_type": "code",
   "execution_count": 29,
   "id": "c2807b27-369b-44bd-b290-9de472effec4",
   "metadata": {},
   "outputs": [],
   "source": [
    "data=pd.concat([df_2017, df_2018],ignore_index=True)  #concatting 2017 and 2018 as new dataframe \"data\""
   ]
  },
  {
   "cell_type": "code",
   "execution_count": 31,
   "id": "433c38e6-4993-404d-a963-6f197035c1ed",
   "metadata": {},
   "outputs": [
    {
     "data": {
      "text/html": [
       "<div>\n",
       "<style scoped>\n",
       "    .dataframe tbody tr th:only-of-type {\n",
       "        vertical-align: middle;\n",
       "    }\n",
       "\n",
       "    .dataframe tbody tr th {\n",
       "        vertical-align: top;\n",
       "    }\n",
       "\n",
       "    .dataframe thead th {\n",
       "        text-align: right;\n",
       "    }\n",
       "</style>\n",
       "<table border=\"1\" class=\"dataframe\">\n",
       "  <thead>\n",
       "    <tr style=\"text-align: right;\">\n",
       "      <th></th>\n",
       "      <th>Category</th>\n",
       "      <th>State/UT</th>\n",
       "      <th>Cases Reported</th>\n",
       "      <th>Persons Escaped - From lockup</th>\n",
       "      <th>Persons Escaped - Outside Lockup</th>\n",
       "      <th>Persons Escaped - Total</th>\n",
       "      <th>Escapees - Re-Arrested</th>\n",
       "      <th>Escapees - Absconding</th>\n",
       "      <th>Cases against Police for Negligence</th>\n",
       "      <th>Action taken for Negligence - Police Personnel Arrested</th>\n",
       "      <th>Action taken for Negligence - Police Personnel Chargesheeted</th>\n",
       "      <th>Action taken for Negligence - Police Personnel Convicted</th>\n",
       "      <th>Year</th>\n",
       "    </tr>\n",
       "  </thead>\n",
       "  <tbody>\n",
       "    <tr>\n",
       "      <th>0</th>\n",
       "      <td>State</td>\n",
       "      <td>Andhra Pradesh</td>\n",
       "      <td>36</td>\n",
       "      <td>3</td>\n",
       "      <td>35</td>\n",
       "      <td>38</td>\n",
       "      <td>33</td>\n",
       "      <td>4</td>\n",
       "      <td>0</td>\n",
       "      <td>0</td>\n",
       "      <td>0</td>\n",
       "      <td>1</td>\n",
       "      <td>2017</td>\n",
       "    </tr>\n",
       "    <tr>\n",
       "      <th>1</th>\n",
       "      <td>State</td>\n",
       "      <td>Arunachal Pradesh</td>\n",
       "      <td>3</td>\n",
       "      <td>9</td>\n",
       "      <td>1</td>\n",
       "      <td>10</td>\n",
       "      <td>10</td>\n",
       "      <td>0</td>\n",
       "      <td>0</td>\n",
       "      <td>0</td>\n",
       "      <td>0</td>\n",
       "      <td>0</td>\n",
       "      <td>2017</td>\n",
       "    </tr>\n",
       "    <tr>\n",
       "      <th>2</th>\n",
       "      <td>State</td>\n",
       "      <td>Assam</td>\n",
       "      <td>13</td>\n",
       "      <td>5</td>\n",
       "      <td>9</td>\n",
       "      <td>14</td>\n",
       "      <td>11</td>\n",
       "      <td>3</td>\n",
       "      <td>0</td>\n",
       "      <td>0</td>\n",
       "      <td>0</td>\n",
       "      <td>0</td>\n",
       "      <td>2017</td>\n",
       "    </tr>\n",
       "    <tr>\n",
       "      <th>3</th>\n",
       "      <td>State</td>\n",
       "      <td>Bihar</td>\n",
       "      <td>62</td>\n",
       "      <td>15</td>\n",
       "      <td>50</td>\n",
       "      <td>65</td>\n",
       "      <td>43</td>\n",
       "      <td>16</td>\n",
       "      <td>0</td>\n",
       "      <td>0</td>\n",
       "      <td>4</td>\n",
       "      <td>0</td>\n",
       "      <td>2017</td>\n",
       "    </tr>\n",
       "    <tr>\n",
       "      <th>4</th>\n",
       "      <td>State</td>\n",
       "      <td>Chhattisgarh</td>\n",
       "      <td>27</td>\n",
       "      <td>6</td>\n",
       "      <td>24</td>\n",
       "      <td>30</td>\n",
       "      <td>25</td>\n",
       "      <td>8</td>\n",
       "      <td>8</td>\n",
       "      <td>0</td>\n",
       "      <td>0</td>\n",
       "      <td>0</td>\n",
       "      <td>2017</td>\n",
       "    </tr>\n",
       "    <tr>\n",
       "      <th>...</th>\n",
       "      <td>...</td>\n",
       "      <td>...</td>\n",
       "      <td>...</td>\n",
       "      <td>...</td>\n",
       "      <td>...</td>\n",
       "      <td>...</td>\n",
       "      <td>...</td>\n",
       "      <td>...</td>\n",
       "      <td>...</td>\n",
       "      <td>...</td>\n",
       "      <td>...</td>\n",
       "      <td>...</td>\n",
       "      <td>...</td>\n",
       "    </tr>\n",
       "    <tr>\n",
       "      <th>67</th>\n",
       "      <td>Union Territory</td>\n",
       "      <td>D&amp;N Haveli</td>\n",
       "      <td>0</td>\n",
       "      <td>0</td>\n",
       "      <td>0</td>\n",
       "      <td>0</td>\n",
       "      <td>0</td>\n",
       "      <td>0</td>\n",
       "      <td>0</td>\n",
       "      <td>0</td>\n",
       "      <td>0</td>\n",
       "      <td>0</td>\n",
       "      <td>2018</td>\n",
       "    </tr>\n",
       "    <tr>\n",
       "      <th>68</th>\n",
       "      <td>Union Territory</td>\n",
       "      <td>Daman &amp; Diu</td>\n",
       "      <td>0</td>\n",
       "      <td>0</td>\n",
       "      <td>0</td>\n",
       "      <td>0</td>\n",
       "      <td>0</td>\n",
       "      <td>0</td>\n",
       "      <td>0</td>\n",
       "      <td>0</td>\n",
       "      <td>0</td>\n",
       "      <td>0</td>\n",
       "      <td>2018</td>\n",
       "    </tr>\n",
       "    <tr>\n",
       "      <th>69</th>\n",
       "      <td>Union Territory</td>\n",
       "      <td>Delhi UT</td>\n",
       "      <td>22</td>\n",
       "      <td>3</td>\n",
       "      <td>19</td>\n",
       "      <td>22</td>\n",
       "      <td>10</td>\n",
       "      <td>2</td>\n",
       "      <td>6</td>\n",
       "      <td>0</td>\n",
       "      <td>0</td>\n",
       "      <td>0</td>\n",
       "      <td>2018</td>\n",
       "    </tr>\n",
       "    <tr>\n",
       "      <th>70</th>\n",
       "      <td>Union Territory</td>\n",
       "      <td>Lakshadweep</td>\n",
       "      <td>0</td>\n",
       "      <td>0</td>\n",
       "      <td>0</td>\n",
       "      <td>0</td>\n",
       "      <td>0</td>\n",
       "      <td>0</td>\n",
       "      <td>0</td>\n",
       "      <td>0</td>\n",
       "      <td>0</td>\n",
       "      <td>0</td>\n",
       "      <td>2018</td>\n",
       "    </tr>\n",
       "    <tr>\n",
       "      <th>71</th>\n",
       "      <td>Union Territory</td>\n",
       "      <td>Puducherry</td>\n",
       "      <td>0</td>\n",
       "      <td>0</td>\n",
       "      <td>0</td>\n",
       "      <td>0</td>\n",
       "      <td>0</td>\n",
       "      <td>0</td>\n",
       "      <td>0</td>\n",
       "      <td>0</td>\n",
       "      <td>0</td>\n",
       "      <td>0</td>\n",
       "      <td>2018</td>\n",
       "    </tr>\n",
       "  </tbody>\n",
       "</table>\n",
       "<p>72 rows × 13 columns</p>\n",
       "</div>"
      ],
      "text/plain": [
       "           Category           State/UT  Cases Reported  \\\n",
       "0             State     Andhra Pradesh              36   \n",
       "1             State  Arunachal Pradesh               3   \n",
       "2             State              Assam              13   \n",
       "3             State              Bihar              62   \n",
       "4             State       Chhattisgarh              27   \n",
       "..              ...                ...             ...   \n",
       "67  Union Territory         D&N Haveli               0   \n",
       "68  Union Territory        Daman & Diu               0   \n",
       "69  Union Territory           Delhi UT              22   \n",
       "70  Union Territory        Lakshadweep               0   \n",
       "71  Union Territory         Puducherry               0   \n",
       "\n",
       "    Persons Escaped - From lockup  Persons Escaped - Outside Lockup  \\\n",
       "0                               3                                35   \n",
       "1                               9                                 1   \n",
       "2                               5                                 9   \n",
       "3                              15                                50   \n",
       "4                               6                                24   \n",
       "..                            ...                               ...   \n",
       "67                              0                                 0   \n",
       "68                              0                                 0   \n",
       "69                              3                                19   \n",
       "70                              0                                 0   \n",
       "71                              0                                 0   \n",
       "\n",
       "    Persons Escaped - Total  Escapees - Re-Arrested  Escapees - Absconding  \\\n",
       "0                        38                      33                      4   \n",
       "1                        10                      10                      0   \n",
       "2                        14                      11                      3   \n",
       "3                        65                      43                     16   \n",
       "4                        30                      25                      8   \n",
       "..                      ...                     ...                    ...   \n",
       "67                        0                       0                      0   \n",
       "68                        0                       0                      0   \n",
       "69                       22                      10                      2   \n",
       "70                        0                       0                      0   \n",
       "71                        0                       0                      0   \n",
       "\n",
       "    Cases against Police for Negligence  \\\n",
       "0                                     0   \n",
       "1                                     0   \n",
       "2                                     0   \n",
       "3                                     0   \n",
       "4                                     8   \n",
       "..                                  ...   \n",
       "67                                    0   \n",
       "68                                    0   \n",
       "69                                    6   \n",
       "70                                    0   \n",
       "71                                    0   \n",
       "\n",
       "    Action taken for Negligence - Police Personnel Arrested  \\\n",
       "0                                                   0         \n",
       "1                                                   0         \n",
       "2                                                   0         \n",
       "3                                                   0         \n",
       "4                                                   0         \n",
       "..                                                ...         \n",
       "67                                                  0         \n",
       "68                                                  0         \n",
       "69                                                  0         \n",
       "70                                                  0         \n",
       "71                                                  0         \n",
       "\n",
       "    Action taken for Negligence - Police Personnel Chargesheeted  \\\n",
       "0                                                   0              \n",
       "1                                                   0              \n",
       "2                                                   0              \n",
       "3                                                   4              \n",
       "4                                                   0              \n",
       "..                                                ...              \n",
       "67                                                  0              \n",
       "68                                                  0              \n",
       "69                                                  0              \n",
       "70                                                  0              \n",
       "71                                                  0              \n",
       "\n",
       "    Action taken for Negligence - Police Personnel Convicted  Year  \n",
       "0                                                   1         2017  \n",
       "1                                                   0         2017  \n",
       "2                                                   0         2017  \n",
       "3                                                   0         2017  \n",
       "4                                                   0         2017  \n",
       "..                                                ...          ...  \n",
       "67                                                  0         2018  \n",
       "68                                                  0         2018  \n",
       "69                                                  0         2018  \n",
       "70                                                  0         2018  \n",
       "71                                                  0         2018  \n",
       "\n",
       "[72 rows x 13 columns]"
      ]
     },
     "execution_count": 31,
     "metadata": {},
     "output_type": "execute_result"
    }
   ],
   "source": [
    "data"
   ]
  },
  {
   "cell_type": "code",
   "execution_count": 33,
   "id": "7a8e726b-4a4f-436d-b27b-2c756866f0c9",
   "metadata": {},
   "outputs": [
    {
     "data": {
      "text/plain": [
       "Category                                                        0\n",
       "State/UT                                                        0\n",
       "Cases Reported                                                  0\n",
       "Persons Escaped - From lockup                                   0\n",
       "Persons Escaped - Outside Lockup                                0\n",
       "Persons Escaped - Total                                         0\n",
       "Escapees - Re-Arrested                                          0\n",
       "Escapees - Absconding                                           0\n",
       "Cases against Police for Negligence                             0\n",
       "Action taken for Negligence - Police Personnel Arrested         0\n",
       "Action taken for Negligence - Police Personnel Chargesheeted    0\n",
       "Action taken for Negligence - Police Personnel Convicted        0\n",
       "Year                                                            0\n",
       "dtype: int64"
      ]
     },
     "execution_count": 33,
     "metadata": {},
     "output_type": "execute_result"
    }
   ],
   "source": [
    "data.isnull().sum()"
   ]
  },
  {
   "cell_type": "markdown",
   "id": "5b6f6088-3306-4004-a9b4-e9576947583f",
   "metadata": {},
   "source": [
    "# Maximum number of cases reported"
   ]
  },
  {
   "cell_type": "code",
   "execution_count": 36,
   "id": "fb72aaad-c0cc-4a48-8d8c-017b7ae04e49",
   "metadata": {},
   "outputs": [],
   "source": [
    "max_cases=data[\"Cases Reported\"].max()"
   ]
  },
  {
   "cell_type": "code",
   "execution_count": 38,
   "id": "11615ce0-5da4-4c02-a335-0247a3d51d8d",
   "metadata": {},
   "outputs": [
    {
     "data": {
      "text/plain": [
       "319"
      ]
     },
     "execution_count": 38,
     "metadata": {},
     "output_type": "execute_result"
    }
   ],
   "source": [
    "max_cases"
   ]
  },
  {
   "cell_type": "code",
   "execution_count": 40,
   "id": "9f2a1591-974a-4745-ba45-f81221cc40a1",
   "metadata": {},
   "outputs": [],
   "source": [
    "max_statename=data[data[\"Cases Reported\"]==max_cases][\"State/UT\"].iloc[0]"
   ]
  },
  {
   "cell_type": "code",
   "execution_count": 42,
   "id": "75a0964d-b0f0-42fc-a5eb-0951a7d91ea3",
   "metadata": {},
   "outputs": [
    {
     "data": {
      "text/plain": [
       "'Madhya Pradesh'"
      ]
     },
     "execution_count": 42,
     "metadata": {},
     "output_type": "execute_result"
    }
   ],
   "source": [
    "max_statename"
   ]
  },
  {
   "cell_type": "code",
   "execution_count": 44,
   "id": "ecb6c4c6-0881-432b-ad57-dcd0b9a1f343",
   "metadata": {},
   "outputs": [
    {
     "name": "stdout",
     "output_type": "stream",
     "text": [
      "Maximum number of cases reported in Madhya Pradesh with count 319\n"
     ]
    }
   ],
   "source": [
    "print(f\"Maximum number of cases reported in {max_statename} with count {max_cases}\")"
   ]
  },
  {
   "cell_type": "markdown",
   "id": "8bac90ab-a46f-4e1f-866b-e902bcae3044",
   "metadata": {},
   "source": [
    "# Top 5 States with Highest Total Cases"
   ]
  },
  {
   "cell_type": "code",
   "execution_count": 47,
   "id": "8634850f-ee48-44e8-a72c-7a40e4a5b605",
   "metadata": {},
   "outputs": [],
   "source": [
    "top_states=data.groupby(\"State/UT\")[\"Cases Reported\"].sum().sort_values(ascending=False).head(5)"
   ]
  },
  {
   "cell_type": "code",
   "execution_count": 49,
   "id": "f0db8ece-a861-409d-927d-cf7f828624e5",
   "metadata": {},
   "outputs": [],
   "source": [
    "top_states=top_states.reset_index()"
   ]
  },
  {
   "cell_type": "code",
   "execution_count": 51,
   "id": "97c98b19-9ec8-41a1-802a-637d28be9a16",
   "metadata": {},
   "outputs": [
    {
     "name": "stdout",
     "output_type": "stream",
     "text": [
      "         State/UT  Cases Reported\n",
      "0  Madhya Pradesh             631\n",
      "1         Mizoram             264\n",
      "2     Maharashtra             192\n",
      "3   Uttar Pradesh             155\n",
      "4       Rajasthan             125\n"
     ]
    }
   ],
   "source": [
    "print(top_states)"
   ]
  },
  {
   "cell_type": "code",
   "execution_count": 53,
   "id": "93544110-5aa1-41d8-be02-a8fb29680346",
   "metadata": {},
   "outputs": [
    {
     "data": {
      "image/png": "[encoded data removed]",
      "text/plain": [
       "<Figure size 640x480 with 1 Axes>"
      ]
     },
     "metadata": {},
     "output_type": "display_data"
    }
   ],
   "source": [
    "import seaborn as sns\n",
    "import matplotlib.pyplot as plt\n",
    "sns.barplot(data=top_states, x=\"State/UT\", y=\"Cases Reported\",color=\"red\")\n",
    "plt.title(\"Top 5 States with Highest Total Cases\")\n",
    "plt.xticks(rotation=45)\n",
    "plt.tight_layout()\n",
    "plt.show()"
   ]
  },
  {
   "cell_type": "markdown",
   "id": "6856e95d-9042-4124-850a-e9de4a95618e",
   "metadata": {},
   "source": [
    "# Maximum number of cases reported in 2017 and 2018"
   ]
  },
  {
   "cell_type": "code",
   "execution_count": 55,
   "id": "34c87feb-6017-451a-ae04-954674cb7d29",
   "metadata": {},
   "outputs": [
    {
     "data": {
      "image/png": "[encoded data removed]",
      "text/plain": [
       "<Figure size 640x480 with 1 Axes>"
      ]
     },
     "metadata": {},
     "output_type": "display_data"
    }
   ],
   "source": [
    "max_yearwise=data.groupby(\"Year\")[\"Cases Reported\"].max().reset_index()\n",
    "sns.lineplot(data=max_yearwise,x=\"Year\", y=\"Cases Reported\", color=\"red\")\n",
    "plt.title(\"Maximum number of cases reported in 2017 and 2018\")\n",
    "plt.xlabel(\"Year\")\n",
    "plt.ylabel(\"Cases Reported\")\n",
    "plt.xticks([2017,2018])\n",
    "plt.grid(True)\n",
    "plt.show()"
   ]
  },
  {
   "cell_type": "markdown",
   "id": "80605844-56cf-4600-993d-6c30fb8dcd59",
   "metadata": {},
   "source": [
    "# State with Zero Number of Cases Reported"
   ]
  },
  {
   "cell_type": "code",
   "execution_count": 57,
   "id": "1a0ff128-4dbe-4a08-8699-c3df791f3018",
   "metadata": {},
   "outputs": [],
   "source": [
    "zero_states=data.loc[data[\"Cases Reported\"]==0][\"State/UT\"].unique()"
   ]
  },
  {
   "cell_type": "code",
   "execution_count": 58,
   "id": "df7d4bcd-d4d2-4f19-91b3-627689f1dedb",
   "metadata": {},
   "outputs": [
    {
     "data": {
      "text/plain": [
       "array(['Manipur', 'Sikkim', 'A & N Islands', 'Daman & Diu', 'Lakshadweep',\n",
       "       'Puducherry', 'D&N Haveli'], dtype=object)"
      ]
     },
     "execution_count": 58,
     "metadata": {},
     "output_type": "execute_result"
    }
   ],
   "source": [
    "zero_states"
   ]
  },
  {
   "cell_type": "code",
   "execution_count": 59,
   "id": "91e917a5-da90-4f8f-bbff-c5308d53a439",
   "metadata": {},
   "outputs": [
    {
     "name": "stdout",
     "output_type": "stream",
     "text": [
      "States with Zero Cases: ['Manipur' 'Sikkim' 'A & N Islands' 'Daman & Diu' 'Lakshadweep'\n",
      " 'Puducherry' 'D&N Haveli']\n"
     ]
    }
   ],
   "source": [
    "print(f\"States with Zero Cases: {zero_states}\")"
   ]
  },
  {
   "cell_type": "markdown",
   "id": "eedc7682-460f-4fe3-a1ad-1b2b82dc29ff",
   "metadata": {},
   "source": [
    "# Total cases year wise"
   ]
  },
  {
   "cell_type": "code",
   "execution_count": 61,
   "id": "23e586da-1fc5-4c20-af44-97e15263a33c",
   "metadata": {},
   "outputs": [],
   "source": [
    "total_yearwise=data.groupby(\"Year\")[\"Cases Reported\"].sum().reset_index()"
   ]
  },
  {
   "cell_type": "code",
   "execution_count": 62,
   "id": "41e9ead4-0abc-4ecf-b19d-81dcb4888908",
   "metadata": {},
   "outputs": [
    {
     "data": {
      "text/html": [
       "<div>\n",
       "<style scoped>\n",
       "    .dataframe tbody tr th:only-of-type {\n",
       "        vertical-align: middle;\n",
       "    }\n",
       "\n",
       "    .dataframe tbody tr th {\n",
       "        vertical-align: top;\n",
       "    }\n",
       "\n",
       "    .dataframe thead th {\n",
       "        text-align: right;\n",
       "    }\n",
       "</style>\n",
       "<table border=\"1\" class=\"dataframe\">\n",
       "  <thead>\n",
       "    <tr style=\"text-align: right;\">\n",
       "      <th></th>\n",
       "      <th>Year</th>\n",
       "      <th>Cases Reported</th>\n",
       "    </tr>\n",
       "  </thead>\n",
       "  <tbody>\n",
       "    <tr>\n",
       "      <th>0</th>\n",
       "      <td>2017</td>\n",
       "      <td>1163</td>\n",
       "    </tr>\n",
       "    <tr>\n",
       "      <th>1</th>\n",
       "      <td>2018</td>\n",
       "      <td>1281</td>\n",
       "    </tr>\n",
       "  </tbody>\n",
       "</table>\n",
       "</div>"
      ],
      "text/plain": [
       "   Year  Cases Reported\n",
       "0  2017            1163\n",
       "1  2018            1281"
      ]
     },
     "execution_count": 62,
     "metadata": {},
     "output_type": "execute_result"
    }
   ],
   "source": [
    "total_yearwise"
   ]
  },
  {
   "cell_type": "code",
   "execution_count": 63,
   "id": "76f47074-7528-4ebe-83aa-1c21524087e2",
   "metadata": {},
   "outputs": [
    {
     "data": {
      "image/png": "[encoded data removed]",
      "text/plain": [
       "<Figure size 640x480 with 1 Axes>"
      ]
     },
     "metadata": {},
     "output_type": "display_data"
    }
   ],
   "source": [
    "sns.barplot(data=total_yearwise,x=\"Year\",y=\"Cases Reported\",color=\"red\",width=0.2)\n",
    "plt.title(\"Total Cases Reported (year wise)\")\n",
    "plt.xlabel(\"Year\")\n",
    "plt.ylabel(\"Cases Reported\")\n",
    "plt.tight_layout()\n",
    "plt.show()"
   ]
  },
  {
   "cell_type": "markdown",
   "id": "c40076f0-0e31-4b57-8e26-fd52b51b16f7",
   "metadata": {},
   "source": [
    "# Maximum number of Escapees- Absconding"
   ]
  },
  {
   "cell_type": "code",
   "execution_count": 65,
   "id": "ecb1f746-a13a-4260-ab9c-fcb942b97ec2",
   "metadata": {},
   "outputs": [],
   "source": [
    "absc=data.groupby([\"Year\", \"State/UT\"])[\"Escapees - Absconding\"].max().reset_index()"
   ]
  },
  {
   "cell_type": "code",
   "execution_count": 67,
   "id": "5050f705-8d55-427b-8540-ec30db756110",
   "metadata": {},
   "outputs": [],
   "source": [
    "absconding17=absc[absc[\"Year\"]==2017].sort_values(\"Escapees - Absconding\",ascending=False).head(1)"
   ]
  },
  {
   "cell_type": "code",
   "execution_count": 69,
   "id": "4d4ac27b-224f-4b80-838c-f36aeafe386b",
   "metadata": {},
   "outputs": [
    {
     "data": {
      "text/html": [
       "<div>\n",
       "<style scoped>\n",
       "    .dataframe tbody tr th:only-of-type {\n",
       "        vertical-align: middle;\n",
       "    }\n",
       "\n",
       "    .dataframe tbody tr th {\n",
       "        vertical-align: top;\n",
       "    }\n",
       "\n",
       "    .dataframe thead th {\n",
       "        text-align: right;\n",
       "    }\n",
       "</style>\n",
       "<table border=\"1\" class=\"dataframe\">\n",
       "  <thead>\n",
       "    <tr style=\"text-align: right;\">\n",
       "      <th></th>\n",
       "      <th>Year</th>\n",
       "      <th>State/UT</th>\n",
       "      <th>Escapees - Absconding</th>\n",
       "    </tr>\n",
       "  </thead>\n",
       "  <tbody>\n",
       "    <tr>\n",
       "      <th>27</th>\n",
       "      <td>2017</td>\n",
       "      <td>Punjab</td>\n",
       "      <td>81</td>\n",
       "    </tr>\n",
       "  </tbody>\n",
       "</table>\n",
       "</div>"
      ],
      "text/plain": [
       "    Year State/UT  Escapees - Absconding\n",
       "27  2017   Punjab                     81"
      ]
     },
     "execution_count": 69,
     "metadata": {},
     "output_type": "execute_result"
    }
   ],
   "source": [
    "absconding17"
   ]
  },
  {
   "cell_type": "code",
   "execution_count": 75,
   "id": "1b9e8385-e202-4ed4-bc42-72b6bc5fac41",
   "metadata": {},
   "outputs": [],
   "source": [
    "absconding18=absc[absc[\"Year\"]==2018].sort_values(\"Escapees - Absconding\", ascending=False).head(1)"
   ]
  },
  {
   "cell_type": "code",
   "execution_count": 77,
   "id": "17d28e65-c88c-4c72-b636-37d26288fcb1",
   "metadata": {},
   "outputs": [
    {
     "data": {
      "text/html": [
       "<div>\n",
       "<style scoped>\n",
       "    .dataframe tbody tr th:only-of-type {\n",
       "        vertical-align: middle;\n",
       "    }\n",
       "\n",
       "    .dataframe tbody tr th {\n",
       "        vertical-align: top;\n",
       "    }\n",
       "\n",
       "    .dataframe thead th {\n",
       "        text-align: right;\n",
       "    }\n",
       "</style>\n",
       "<table border=\"1\" class=\"dataframe\">\n",
       "  <thead>\n",
       "    <tr style=\"text-align: right;\">\n",
       "      <th></th>\n",
       "      <th>Year</th>\n",
       "      <th>State/UT</th>\n",
       "      <th>Escapees - Absconding</th>\n",
       "    </tr>\n",
       "  </thead>\n",
       "  <tbody>\n",
       "    <tr>\n",
       "      <th>39</th>\n",
       "      <td>2018</td>\n",
       "      <td>Assam</td>\n",
       "      <td>28</td>\n",
       "    </tr>\n",
       "  </tbody>\n",
       "</table>\n",
       "</div>"
      ],
      "text/plain": [
       "    Year State/UT  Escapees - Absconding\n",
       "39  2018    Assam                     28"
      ]
     },
     "execution_count": 77,
     "metadata": {},
     "output_type": "execute_result"
    }
   ],
   "source": [
    "absconding18"
   ]
  },
  {
   "cell_type": "code",
   "execution_count": 81,
   "id": "881fc235-b0b1-4006-943a-d23f85bcd002",
   "metadata": {},
   "outputs": [],
   "source": [
    "absconding=pd.concat([absconding17, absconding18],ignore_index=True)"
   ]
  },
  {
   "cell_type": "code",
   "execution_count": 84,
   "id": "b705660c-8b01-48c8-9f5b-1e81fbc13d5e",
   "metadata": {},
   "outputs": [
    {
     "data": {
      "text/html": [
       "<div>\n",
       "<style scoped>\n",
       "    .dataframe tbody tr th:only-of-type {\n",
       "        vertical-align: middle;\n",
       "    }\n",
       "\n",
       "    .dataframe tbody tr th {\n",
       "        vertical-align: top;\n",
       "    }\n",
       "\n",
       "    .dataframe thead th {\n",
       "        text-align: right;\n",
       "    }\n",
       "</style>\n",
       "<table border=\"1\" class=\"dataframe\">\n",
       "  <thead>\n",
       "    <tr style=\"text-align: right;\">\n",
       "      <th></th>\n",
       "      <th>Year</th>\n",
       "      <th>State/UT</th>\n",
       "      <th>Escapees - Absconding</th>\n",
       "    </tr>\n",
       "  </thead>\n",
       "  <tbody>\n",
       "    <tr>\n",
       "      <th>0</th>\n",
       "      <td>2017</td>\n",
       "      <td>Punjab</td>\n",
       "      <td>81</td>\n",
       "    </tr>\n",
       "    <tr>\n",
       "      <th>1</th>\n",
       "      <td>2018</td>\n",
       "      <td>Assam</td>\n",
       "      <td>28</td>\n",
       "    </tr>\n",
       "  </tbody>\n",
       "</table>\n",
       "</div>"
      ],
      "text/plain": [
       "   Year State/UT  Escapees - Absconding\n",
       "0  2017   Punjab                     81\n",
       "1  2018    Assam                     28"
      ]
     },
     "execution_count": 84,
     "metadata": {},
     "output_type": "execute_result"
    }
   ],
   "source": [
    "absconding"
   ]
  },
  {
   "cell_type": "code",
   "execution_count": 87,
   "id": "477a50f8-5303-40b4-b687-fba52a350d22",
   "metadata": {},
   "outputs": [
    {
     "data": {
      "image/png": "[encoded data removed]",
      "text/plain": [
       "<Figure size 640x480 with 1 Axes>"
      ]
     },
     "metadata": {},
     "output_type": "display_data"
    }
   ],
   "source": [
    "sns.barplot(data=absconding,x=\"Year\", y=\"Escapees - Absconding\", width=0.2,color=\"red\")\n",
    "plt.title(\"Maximum number of Escapees - Absconding (Year wise)\")\n",
    "plt.tight_layout()\n",
    "plt.show()"
   ]
  },
  {
   "cell_type": "markdown",
   "id": "8918c500-081d-4402-a07d-254b048f3d92",
   "metadata": {},
   "source": [
    "# Tamil Nadu"
   ]
  },
  {
   "cell_type": "code",
   "execution_count": 90,
   "id": "3c9ba60e-966a-4d8a-8884-0dbbf1aee5df",
   "metadata": {},
   "outputs": [
    {
     "data": {
      "text/html": [
       "<div>\n",
       "<style scoped>\n",
       "    .dataframe tbody tr th:only-of-type {\n",
       "        vertical-align: middle;\n",
       "    }\n",
       "\n",
       "    .dataframe tbody tr th {\n",
       "        vertical-align: top;\n",
       "    }\n",
       "\n",
       "    .dataframe thead th {\n",
       "        text-align: right;\n",
       "    }\n",
       "</style>\n",
       "<table border=\"1\" class=\"dataframe\">\n",
       "  <thead>\n",
       "    <tr style=\"text-align: right;\">\n",
       "      <th></th>\n",
       "      <th>Category</th>\n",
       "      <th>State/UT</th>\n",
       "      <th>Cases Reported</th>\n",
       "      <th>Persons Escaped - From lockup</th>\n",
       "      <th>Persons Escaped - Outside Lockup</th>\n",
       "      <th>Persons Escaped - Total</th>\n",
       "      <th>Escapees - Re-Arrested</th>\n",
       "      <th>Escapees - Absconding</th>\n",
       "      <th>Cases against Police for Negligence</th>\n",
       "      <th>Action taken for Negligence - Police Personnel Arrested</th>\n",
       "      <th>Action taken for Negligence - Police Personnel Chargesheeted</th>\n",
       "      <th>Action taken for Negligence - Police Personnel Convicted</th>\n",
       "      <th>Year</th>\n",
       "    </tr>\n",
       "  </thead>\n",
       "  <tbody>\n",
       "    <tr>\n",
       "      <th>23</th>\n",
       "      <td>State</td>\n",
       "      <td>Tamil Nadu</td>\n",
       "      <td>21</td>\n",
       "      <td>3</td>\n",
       "      <td>20</td>\n",
       "      <td>23</td>\n",
       "      <td>22</td>\n",
       "      <td>1</td>\n",
       "      <td>0</td>\n",
       "      <td>0</td>\n",
       "      <td>0</td>\n",
       "      <td>0</td>\n",
       "      <td>2017</td>\n",
       "    </tr>\n",
       "    <tr>\n",
       "      <th>59</th>\n",
       "      <td>State</td>\n",
       "      <td>Tamil Nadu</td>\n",
       "      <td>27</td>\n",
       "      <td>5</td>\n",
       "      <td>27</td>\n",
       "      <td>32</td>\n",
       "      <td>28</td>\n",
       "      <td>4</td>\n",
       "      <td>2</td>\n",
       "      <td>0</td>\n",
       "      <td>1</td>\n",
       "      <td>0</td>\n",
       "      <td>2018</td>\n",
       "    </tr>\n",
       "  </tbody>\n",
       "</table>\n",
       "</div>"
      ],
      "text/plain": [
       "   Category    State/UT  Cases Reported  Persons Escaped - From lockup  \\\n",
       "23    State  Tamil Nadu              21                              3   \n",
       "59    State  Tamil Nadu              27                              5   \n",
       "\n",
       "    Persons Escaped - Outside Lockup  Persons Escaped - Total  \\\n",
       "23                                20                       23   \n",
       "59                                27                       32   \n",
       "\n",
       "    Escapees - Re-Arrested  Escapees - Absconding  \\\n",
       "23                      22                      1   \n",
       "59                      28                      4   \n",
       "\n",
       "    Cases against Police for Negligence  \\\n",
       "23                                    0   \n",
       "59                                    2   \n",
       "\n",
       "    Action taken for Negligence - Police Personnel Arrested  \\\n",
       "23                                                  0         \n",
       "59                                                  0         \n",
       "\n",
       "    Action taken for Negligence - Police Personnel Chargesheeted  \\\n",
       "23                                                  0              \n",
       "59                                                  1              \n",
       "\n",
       "    Action taken for Negligence - Police Personnel Convicted  Year  \n",
       "23                                                  0         2017  \n",
       "59                                                  0         2018  "
      ]
     },
     "execution_count": 90,
     "metadata": {},
     "output_type": "execute_result"
    }
   ],
   "source": [
    "data.loc[data[\"State/UT\"]==\"Tamil Nadu\"]"
   ]
  },
  {
   "cell_type": "code",
   "execution_count": 92,
   "id": "c3dc96b8-bcbf-40ed-b1a5-511cdd5076ce",
   "metadata": {},
   "outputs": [],
   "source": [
    "tamilnadu=data.loc[data[\"State/UT\"]==\"Tamil Nadu\"]"
   ]
  },
  {
   "cell_type": "code",
   "execution_count": 94,
   "id": "497b51a4-aa1b-40e8-8674-6991e8068c8b",
   "metadata": {},
   "outputs": [
    {
     "data": {
      "text/plain": [
       "<function matplotlib.pyplot.show(close=None, block=None)>"
      ]
     },
     "execution_count": 94,
     "metadata": {},
     "output_type": "execute_result"
    },
    {
     "data": {
      "image/png": "[encoded data removed]",
      "text/plain": [
       "<Figure size 640x480 with 1 Axes>"
      ]
     },
     "metadata": {},
     "output_type": "display_data"
    }
   ],
   "source": [
    "sns.lineplot(data=tamilnadu, x=\"Year\", y=\"Cases Reported\",color=\"red\")\n",
    "plt.title(\"Cases in Tamil Nadu\")\n",
    "plt.xticks([2017,2018])\n",
    "plt.grid(True)\n",
    "plt.show"
   ]
  },
  {
   "cell_type": "code",
   "execution_count": 98,
   "id": "5e9053dc-e100-4641-a526-ee602a0766a0",
   "metadata": {},
   "outputs": [
    {
     "data": {
      "text/html": [
       "<div>\n",
       "<style scoped>\n",
       "    .dataframe tbody tr th:only-of-type {\n",
       "        vertical-align: middle;\n",
       "    }\n",
       "\n",
       "    .dataframe tbody tr th {\n",
       "        vertical-align: top;\n",
       "    }\n",
       "\n",
       "    .dataframe thead th {\n",
       "        text-align: right;\n",
       "    }\n",
       "</style>\n",
       "<table border=\"1\" class=\"dataframe\">\n",
       "  <thead>\n",
       "    <tr style=\"text-align: right;\">\n",
       "      <th></th>\n",
       "      <th>Category</th>\n",
       "      <th>State/UT</th>\n",
       "      <th>Cases Reported</th>\n",
       "      <th>Persons Escaped - From lockup</th>\n",
       "      <th>Persons Escaped - Outside Lockup</th>\n",
       "      <th>Persons Escaped - Total</th>\n",
       "      <th>Escapees - Re-Arrested</th>\n",
       "      <th>Escapees - Absconding</th>\n",
       "      <th>Cases against Police for Negligence</th>\n",
       "      <th>Action taken for Negligence - Police Personnel Arrested</th>\n",
       "      <th>Action taken for Negligence - Police Personnel Chargesheeted</th>\n",
       "      <th>Action taken for Negligence - Police Personnel Convicted</th>\n",
       "      <th>Year</th>\n",
       "    </tr>\n",
       "  </thead>\n",
       "  <tbody>\n",
       "    <tr>\n",
       "      <th>0</th>\n",
       "      <td>State</td>\n",
       "      <td>Andhra Pradesh</td>\n",
       "      <td>36</td>\n",
       "      <td>3</td>\n",
       "      <td>35</td>\n",
       "      <td>38</td>\n",
       "      <td>33</td>\n",
       "      <td>4</td>\n",
       "      <td>0</td>\n",
       "      <td>0</td>\n",
       "      <td>0</td>\n",
       "      <td>1</td>\n",
       "      <td>2017</td>\n",
       "    </tr>\n",
       "    <tr>\n",
       "      <th>1</th>\n",
       "      <td>State</td>\n",
       "      <td>Arunachal Pradesh</td>\n",
       "      <td>3</td>\n",
       "      <td>9</td>\n",
       "      <td>1</td>\n",
       "      <td>10</td>\n",
       "      <td>10</td>\n",
       "      <td>0</td>\n",
       "      <td>0</td>\n",
       "      <td>0</td>\n",
       "      <td>0</td>\n",
       "      <td>0</td>\n",
       "      <td>2017</td>\n",
       "    </tr>\n",
       "    <tr>\n",
       "      <th>2</th>\n",
       "      <td>State</td>\n",
       "      <td>Assam</td>\n",
       "      <td>13</td>\n",
       "      <td>5</td>\n",
       "      <td>9</td>\n",
       "      <td>14</td>\n",
       "      <td>11</td>\n",
       "      <td>3</td>\n",
       "      <td>0</td>\n",
       "      <td>0</td>\n",
       "      <td>0</td>\n",
       "      <td>0</td>\n",
       "      <td>2017</td>\n",
       "    </tr>\n",
       "    <tr>\n",
       "      <th>3</th>\n",
       "      <td>State</td>\n",
       "      <td>Bihar</td>\n",
       "      <td>62</td>\n",
       "      <td>15</td>\n",
       "      <td>50</td>\n",
       "      <td>65</td>\n",
       "      <td>43</td>\n",
       "      <td>16</td>\n",
       "      <td>0</td>\n",
       "      <td>0</td>\n",
       "      <td>4</td>\n",
       "      <td>0</td>\n",
       "      <td>2017</td>\n",
       "    </tr>\n",
       "    <tr>\n",
       "      <th>4</th>\n",
       "      <td>State</td>\n",
       "      <td>Chhattisgarh</td>\n",
       "      <td>27</td>\n",
       "      <td>6</td>\n",
       "      <td>24</td>\n",
       "      <td>30</td>\n",
       "      <td>25</td>\n",
       "      <td>8</td>\n",
       "      <td>8</td>\n",
       "      <td>0</td>\n",
       "      <td>0</td>\n",
       "      <td>0</td>\n",
       "      <td>2017</td>\n",
       "    </tr>\n",
       "    <tr>\n",
       "      <th>5</th>\n",
       "      <td>State</td>\n",
       "      <td>Goa</td>\n",
       "      <td>4</td>\n",
       "      <td>0</td>\n",
       "      <td>4</td>\n",
       "      <td>4</td>\n",
       "      <td>2</td>\n",
       "      <td>1</td>\n",
       "      <td>0</td>\n",
       "      <td>0</td>\n",
       "      <td>0</td>\n",
       "      <td>0</td>\n",
       "      <td>2017</td>\n",
       "    </tr>\n",
       "    <tr>\n",
       "      <th>6</th>\n",
       "      <td>State</td>\n",
       "      <td>Gujarat</td>\n",
       "      <td>41</td>\n",
       "      <td>7</td>\n",
       "      <td>42</td>\n",
       "      <td>49</td>\n",
       "      <td>39</td>\n",
       "      <td>11</td>\n",
       "      <td>14</td>\n",
       "      <td>23</td>\n",
       "      <td>20</td>\n",
       "      <td>0</td>\n",
       "      <td>2017</td>\n",
       "    </tr>\n",
       "    <tr>\n",
       "      <th>7</th>\n",
       "      <td>State</td>\n",
       "      <td>Haryana</td>\n",
       "      <td>25</td>\n",
       "      <td>6</td>\n",
       "      <td>22</td>\n",
       "      <td>28</td>\n",
       "      <td>22</td>\n",
       "      <td>1</td>\n",
       "      <td>4</td>\n",
       "      <td>3</td>\n",
       "      <td>3</td>\n",
       "      <td>0</td>\n",
       "      <td>2017</td>\n",
       "    </tr>\n",
       "    <tr>\n",
       "      <th>8</th>\n",
       "      <td>State</td>\n",
       "      <td>Himachal Pradesh</td>\n",
       "      <td>9</td>\n",
       "      <td>1</td>\n",
       "      <td>11</td>\n",
       "      <td>12</td>\n",
       "      <td>10</td>\n",
       "      <td>1</td>\n",
       "      <td>2</td>\n",
       "      <td>3</td>\n",
       "      <td>5</td>\n",
       "      <td>2</td>\n",
       "      <td>2017</td>\n",
       "    </tr>\n",
       "    <tr>\n",
       "      <th>9</th>\n",
       "      <td>State</td>\n",
       "      <td>Jammu &amp; Kashmir</td>\n",
       "      <td>11</td>\n",
       "      <td>3</td>\n",
       "      <td>8</td>\n",
       "      <td>11</td>\n",
       "      <td>8</td>\n",
       "      <td>2</td>\n",
       "      <td>3</td>\n",
       "      <td>1</td>\n",
       "      <td>1</td>\n",
       "      <td>0</td>\n",
       "      <td>2017</td>\n",
       "    </tr>\n",
       "  </tbody>\n",
       "</table>\n",
       "</div>"
      ],
      "text/plain": [
       "  Category           State/UT  Cases Reported  Persons Escaped - From lockup  \\\n",
       "0    State     Andhra Pradesh              36                              3   \n",
       "1    State  Arunachal Pradesh               3                              9   \n",
       "2    State              Assam              13                              5   \n",
       "3    State              Bihar              62                             15   \n",
       "4    State       Chhattisgarh              27                              6   \n",
       "5    State                Goa               4                              0   \n",
       "6    State            Gujarat              41                              7   \n",
       "7    State            Haryana              25                              6   \n",
       "8    State   Himachal Pradesh               9                              1   \n",
       "9    State    Jammu & Kashmir              11                              3   \n",
       "\n",
       "   Persons Escaped - Outside Lockup  Persons Escaped - Total  \\\n",
       "0                                35                       38   \n",
       "1                                 1                       10   \n",
       "2                                 9                       14   \n",
       "3                                50                       65   \n",
       "4                                24                       30   \n",
       "5                                 4                        4   \n",
       "6                                42                       49   \n",
       "7                                22                       28   \n",
       "8                                11                       12   \n",
       "9                                 8                       11   \n",
       "\n",
       "   Escapees - Re-Arrested  Escapees - Absconding  \\\n",
       "0                      33                      4   \n",
       "1                      10                      0   \n",
       "2                      11                      3   \n",
       "3                      43                     16   \n",
       "4                      25                      8   \n",
       "5                       2                      1   \n",
       "6                      39                     11   \n",
       "7                      22                      1   \n",
       "8                      10                      1   \n",
       "9                       8                      2   \n",
       "\n",
       "   Cases against Police for Negligence  \\\n",
       "0                                    0   \n",
       "1                                    0   \n",
       "2                                    0   \n",
       "3                                    0   \n",
       "4                                    8   \n",
       "5                                    0   \n",
       "6                                   14   \n",
       "7                                    4   \n",
       "8                                    2   \n",
       "9                                    3   \n",
       "\n",
       "   Action taken for Negligence - Police Personnel Arrested  \\\n",
       "0                                                  0         \n",
       "1                                                  0         \n",
       "2                                                  0         \n",
       "3                                                  0         \n",
       "4                                                  0         \n",
       "5                                                  0         \n",
       "6                                                 23         \n",
       "7                                                  3         \n",
       "8                                                  3         \n",
       "9                                                  1         \n",
       "\n",
       "   Action taken for Negligence - Police Personnel Chargesheeted  \\\n",
       "0                                                  0              \n",
       "1                                                  0              \n",
       "2                                                  0              \n",
       "3                                                  4              \n",
       "4                                                  0              \n",
       "5                                                  0              \n",
       "6                                                 20              \n",
       "7                                                  3              \n",
       "8                                                  5              \n",
       "9                                                  1              \n",
       "\n",
       "   Action taken for Negligence - Police Personnel Convicted  Year  \n",
       "0                                                  1         2017  \n",
       "1                                                  0         2017  \n",
       "2                                                  0         2017  \n",
       "3                                                  0         2017  \n",
       "4                                                  0         2017  \n",
       "5                                                  0         2017  \n",
       "6                                                  0         2017  \n",
       "7                                                  0         2017  \n",
       "8                                                  2         2017  \n",
       "9                                                  0         2017  "
      ]
     },
     "execution_count": 98,
     "metadata": {},
     "output_type": "execute_result"
    }
   ],
   "source": [
    "data.head(10)"
   ]
  },
  {
   "cell_type": "markdown",
   "id": "dcce742d-4479-4324-9190-bebbd5f85a37",
   "metadata": {},
   "source": [
    "# Escapees Re-arrested state wise"
   ]
  },
  {
   "cell_type": "code",
   "execution_count": 101,
   "id": "3a61d5ef-5751-427e-a962-cc13a9db79c1",
   "metadata": {},
   "outputs": [],
   "source": [
    "rearrest=data[[\"Year\",\"State/UT\",\"Escapees - Re-Arrested\"]]"
   ]
  },
  {
   "cell_type": "code",
   "execution_count": 103,
   "id": "64981dde-2603-45d0-9d21-374fef1a1995",
   "metadata": {},
   "outputs": [
    {
     "data": {
      "text/html": [
       "<div>\n",
       "<style scoped>\n",
       "    .dataframe tbody tr th:only-of-type {\n",
       "        vertical-align: middle;\n",
       "    }\n",
       "\n",
       "    .dataframe tbody tr th {\n",
       "        vertical-align: top;\n",
       "    }\n",
       "\n",
       "    .dataframe thead th {\n",
       "        text-align: right;\n",
       "    }\n",
       "</style>\n",
       "<table border=\"1\" class=\"dataframe\">\n",
       "  <thead>\n",
       "    <tr style=\"text-align: right;\">\n",
       "      <th></th>\n",
       "      <th>Year</th>\n",
       "      <th>State/UT</th>\n",
       "      <th>Escapees - Re-Arrested</th>\n",
       "    </tr>\n",
       "  </thead>\n",
       "  <tbody>\n",
       "    <tr>\n",
       "      <th>0</th>\n",
       "      <td>2017</td>\n",
       "      <td>Andhra Pradesh</td>\n",
       "      <td>33</td>\n",
       "    </tr>\n",
       "    <tr>\n",
       "      <th>1</th>\n",
       "      <td>2017</td>\n",
       "      <td>Arunachal Pradesh</td>\n",
       "      <td>10</td>\n",
       "    </tr>\n",
       "    <tr>\n",
       "      <th>2</th>\n",
       "      <td>2017</td>\n",
       "      <td>Assam</td>\n",
       "      <td>11</td>\n",
       "    </tr>\n",
       "    <tr>\n",
       "      <th>3</th>\n",
       "      <td>2017</td>\n",
       "      <td>Bihar</td>\n",
       "      <td>43</td>\n",
       "    </tr>\n",
       "    <tr>\n",
       "      <th>4</th>\n",
       "      <td>2017</td>\n",
       "      <td>Chhattisgarh</td>\n",
       "      <td>25</td>\n",
       "    </tr>\n",
       "    <tr>\n",
       "      <th>...</th>\n",
       "      <td>...</td>\n",
       "      <td>...</td>\n",
       "      <td>...</td>\n",
       "    </tr>\n",
       "    <tr>\n",
       "      <th>67</th>\n",
       "      <td>2018</td>\n",
       "      <td>D&amp;N Haveli</td>\n",
       "      <td>0</td>\n",
       "    </tr>\n",
       "    <tr>\n",
       "      <th>68</th>\n",
       "      <td>2018</td>\n",
       "      <td>Daman &amp; Diu</td>\n",
       "      <td>0</td>\n",
       "    </tr>\n",
       "    <tr>\n",
       "      <th>69</th>\n",
       "      <td>2018</td>\n",
       "      <td>Delhi UT</td>\n",
       "      <td>10</td>\n",
       "    </tr>\n",
       "    <tr>\n",
       "      <th>70</th>\n",
       "      <td>2018</td>\n",
       "      <td>Lakshadweep</td>\n",
       "      <td>0</td>\n",
       "    </tr>\n",
       "    <tr>\n",
       "      <th>71</th>\n",
       "      <td>2018</td>\n",
       "      <td>Puducherry</td>\n",
       "      <td>0</td>\n",
       "    </tr>\n",
       "  </tbody>\n",
       "</table>\n",
       "<p>72 rows × 3 columns</p>\n",
       "</div>"
      ],
      "text/plain": [
       "    Year           State/UT  Escapees - Re-Arrested\n",
       "0   2017     Andhra Pradesh                      33\n",
       "1   2017  Arunachal Pradesh                      10\n",
       "2   2017              Assam                      11\n",
       "3   2017              Bihar                      43\n",
       "4   2017       Chhattisgarh                      25\n",
       "..   ...                ...                     ...\n",
       "67  2018         D&N Haveli                       0\n",
       "68  2018        Daman & Diu                       0\n",
       "69  2018           Delhi UT                      10\n",
       "70  2018        Lakshadweep                       0\n",
       "71  2018         Puducherry                       0\n",
       "\n",
       "[72 rows x 3 columns]"
      ]
     },
     "execution_count": 103,
     "metadata": {},
     "output_type": "execute_result"
    }
   ],
   "source": [
    "rearrest"
   ]
  },
  {
   "cell_type": "code",
   "execution_count": 105,
   "id": "ee7003e2-8c74-4b63-9f49-96539f925627",
   "metadata": {},
   "outputs": [],
   "source": [
    "rearrested17=rearrest[rearrest[\"Year\"]==2017]"
   ]
  },
  {
   "cell_type": "code",
   "execution_count": 107,
   "id": "3a27fa25-fc37-49bf-8ea6-5963fc02e59d",
   "metadata": {},
   "outputs": [
    {
     "data": {
      "image/png": "[encoded data removed]",
      "text/plain": [
       "<Figure size 1000x800 with 1 Axes>"
      ]
     },
     "metadata": {},
     "output_type": "display_data"
    }
   ],
   "source": [
    "plt.figure(figsize=(10, 8))\n",
    "sns.barplot(data=rearrested17, x=\"Escapees - Re-Arrested\", y=\"State/UT\",color=\"red\")\n",
    "plt.title(\"Escapees Re-arrested for the year 2017\")\n",
    "plt.show()\n"
   ]
  },
  {
   "cell_type": "code",
   "execution_count": 108,
   "id": "74baf5e6-4890-4255-a20e-417da28b137d",
   "metadata": {},
   "outputs": [],
   "source": [
    "rearrested18=rearrest[rearrest[\"Year\"]==2018]"
   ]
  },
  {
   "cell_type": "code",
   "execution_count": 109,
   "id": "183c8c5b-ed5b-4dab-988e-712021e5a626",
   "metadata": {},
   "outputs": [
    {
     "data": {
      "image/png": "[encoded data removed]",
      "text/plain": [
       "<Figure size 1000x800 with 1 Axes>"
      ]
     },
     "metadata": {},
     "output_type": "display_data"
    }
   ],
   "source": [
    "plt.figure(figsize=(10, 8))\n",
    "sns.barplot(data=rearrested18, x=\"Escapees - Re-Arrested\", y=\"State/UT\",color=\"red\")\n",
    "plt.title(\"Escapees Re-arrested for the year 2018\")\n",
    "plt.show()\n"
   ]
  },
  {
   "cell_type": "code",
   "execution_count": 121,
   "id": "3828b9c8-9a73-4416-9dcb-4255210da752",
   "metadata": {},
   "outputs": [],
   "source": [
    "data.to_csv(\"escape_2017_2018_combined.csv\", index=False)\n"
   ]
  },
  {
   "cell_type": "code",
   "execution_count": null,
   "id": "99ce7a4b-a5d2-49dd-ac9d-7674b6500b72",
   "metadata": {},
   "outputs": [],
   "source": []
  }
 ],
 "metadata": {
  "kernelspec": {
   "display_name": "Python [conda env:base] *",
   "language": "python",
   "name": "conda-base-py"
  },
  "language_info": {
   "codemirror_mode": {
    "name": "ipython",
    "version": 3
   },
   "file_extension": ".py",
   "mimetype": "text/x-python",
   "name": "python",
   "nbconvert_exporter": "python",
   "pygments_lexer": "ipython3",
   "version": "3.12.7"
  }
 },
 "nbformat": 4,
 "nbformat_minor": 5
}
